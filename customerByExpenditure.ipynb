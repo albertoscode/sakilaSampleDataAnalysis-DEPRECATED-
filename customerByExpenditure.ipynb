{
 "cells": [
  {
   "cell_type": "code",
   "execution_count": null,
   "id": "e5639ace",
   "metadata": {},
   "outputs": [],
   "source": [
    "# Hello!\n",
    "\n",
    "# AS I have said before, the first procedure that I follow regarding data analysis is data exploration, aiming to \n",
    "# figure out what is in the dataset, and deciding what to do from that point on, always in accordance with the business \n",
    "# requirements, and of course, based on the best practices, and last but not least, based on norms, call it rules or even laws.\n",
    "\n",
    "# In addition, we may want to check the type of data, make sure there are no missing values or duplicates and then we can \n",
    "# move forward in our analysis, let's say by applying some kind of calculation, for instance, statistics or more complex ones\n",
    "# like machine learning algoritms. \n",
    "\n",
    "# The following analysis is very straightforward as well, I picked this one just to easily showcase my skills and allow others, \n",
    "# like recruiters, to take a quick look at my skills instead of leading them into complex examples that can take days to review \n",
    "# and evaluate.\n",
    "\n",
    "# With that being said, I am glad to present my analysis of the Sakila Costumer who spend the most.\n",
    "\n",
    "# Thank you.\n",
    "\n",
    "# Alberto F. Hernanadez\n"
   ]
  },
  {
   "cell_type": "code",
   "execution_count": null,
   "id": "626b16dc",
   "metadata": {},
   "outputs": [],
   "source": [
    "# The first step is to import some libraries like Pandas, Matplotlib Pyplot and NumPy.\n",
    "\n",
    "# KLib is a package that allows me to speed up the steps that have to do with making sure there are no missing or \n",
    "# duplicate values."
   ]
  },
  {
   "cell_type": "code",
   "execution_count": 1,
   "id": "4ee27a35",
   "metadata": {},
   "outputs": [],
   "source": [
    "import pandas as pd"
   ]
  },
  {
   "cell_type": "code",
   "execution_count": 2,
   "id": "2e34ff1f",
   "metadata": {},
   "outputs": [],
   "source": [
    "import klib"
   ]
  },
  {
   "cell_type": "code",
   "execution_count": 3,
   "id": "7dae1254",
   "metadata": {},
   "outputs": [],
   "source": [
    "import matplotlib.pyplot as plt"
   ]
  },
  {
   "cell_type": "code",
   "execution_count": null,
   "id": "1e42cccd",
   "metadata": {},
   "outputs": [],
   "source": [
    "# After importing the libraries, the next step will be to read the CSV file using Pandas as follows:"
   ]
  },
  {
   "cell_type": "code",
   "execution_count": 4,
   "id": "e3bca2de",
   "metadata": {},
   "outputs": [],
   "source": [
    "df = pd.read_csv(\"example20.csv\")"
   ]
  },
  {
   "cell_type": "code",
   "execution_count": null,
   "id": "50848621",
   "metadata": {},
   "outputs": [],
   "source": [
    "# Now, I want to get information about the data, which type of data the CSV file has, how many columns and rows it has, \n",
    "# as well as have an idea about the content of the columns taking into account the column names. \n",
    "\n",
    "# For this, I will use two pandas methods, the first one will be head(), and secondly I will use the info() method:"
   ]
  },
  {
   "cell_type": "code",
   "execution_count": 5,
   "id": "91e1b3d8",
   "metadata": {},
   "outputs": [
    {
     "data": {
      "text/html": [
       "<div>\n",
       "<style scoped>\n",
       "    .dataframe tbody tr th:only-of-type {\n",
       "        vertical-align: middle;\n",
       "    }\n",
       "\n",
       "    .dataframe tbody tr th {\n",
       "        vertical-align: top;\n",
       "    }\n",
       "\n",
       "    .dataframe thead th {\n",
       "        text-align: right;\n",
       "    }\n",
       "</style>\n",
       "<table border=\"1\" class=\"dataframe\">\n",
       "  <thead>\n",
       "    <tr style=\"text-align: right;\">\n",
       "      <th></th>\n",
       "      <th>customer_id</th>\n",
       "      <th>first_name</th>\n",
       "      <th>last_name</th>\n",
       "      <th>rental_date</th>\n",
       "      <th>SUM(payment.amount)</th>\n",
       "    </tr>\n",
       "  </thead>\n",
       "  <tbody>\n",
       "    <tr>\n",
       "      <th>0</th>\n",
       "      <td>526</td>\n",
       "      <td>KARL</td>\n",
       "      <td>SEAL</td>\n",
       "      <td>2005-05-28 00:40:48</td>\n",
       "      <td>9969.75</td>\n",
       "    </tr>\n",
       "    <tr>\n",
       "      <th>1</th>\n",
       "      <td>148</td>\n",
       "      <td>ELEANOR</td>\n",
       "      <td>HUNT</td>\n",
       "      <td>2005-05-28 23:53:18</td>\n",
       "      <td>9960.84</td>\n",
       "    </tr>\n",
       "    <tr>\n",
       "      <th>2</th>\n",
       "      <td>144</td>\n",
       "      <td>CLARA</td>\n",
       "      <td>SHAW</td>\n",
       "      <td>2005-05-27 00:49:27</td>\n",
       "      <td>8214.36</td>\n",
       "    </tr>\n",
       "    <tr>\n",
       "      <th>3</th>\n",
       "      <td>137</td>\n",
       "      <td>RHONDA</td>\n",
       "      <td>KENNEDY</td>\n",
       "      <td>2005-05-30 12:13:52</td>\n",
       "      <td>7589.79</td>\n",
       "    </tr>\n",
       "    <tr>\n",
       "      <th>4</th>\n",
       "      <td>178</td>\n",
       "      <td>MARION</td>\n",
       "      <td>SNYDER</td>\n",
       "      <td>2005-06-15 09:03:52</td>\n",
       "      <td>7589.79</td>\n",
       "    </tr>\n",
       "  </tbody>\n",
       "</table>\n",
       "</div>"
      ],
      "text/plain": [
       "   customer_id first_name last_name          rental_date  SUM(payment.amount)\n",
       "0          526       KARL      SEAL  2005-05-28 00:40:48              9969.75\n",
       "1          148    ELEANOR      HUNT  2005-05-28 23:53:18              9960.84\n",
       "2          144      CLARA      SHAW  2005-05-27 00:49:27              8214.36\n",
       "3          137     RHONDA   KENNEDY  2005-05-30 12:13:52              7589.79\n",
       "4          178     MARION    SNYDER  2005-06-15 09:03:52              7589.79"
      ]
     },
     "execution_count": 5,
     "metadata": {},
     "output_type": "execute_result"
    }
   ],
   "source": [
    "df.head()"
   ]
  },
  {
   "cell_type": "code",
   "execution_count": 6,
   "id": "cd8ece54",
   "metadata": {
    "scrolled": true
   },
   "outputs": [
    {
     "name": "stdout",
     "output_type": "stream",
     "text": [
      "<class 'pandas.core.frame.DataFrame'>\n",
      "RangeIndex: 599 entries, 0 to 598\n",
      "Data columns (total 5 columns):\n",
      " #   Column               Non-Null Count  Dtype  \n",
      "---  ------               --------------  -----  \n",
      " 0   customer_id          599 non-null    int64  \n",
      " 1   first_name           599 non-null    object \n",
      " 2   last_name            599 non-null    object \n",
      " 3   rental_date          599 non-null    object \n",
      " 4   SUM(payment.amount)  599 non-null    float64\n",
      "dtypes: float64(1), int64(1), object(3)\n",
      "memory usage: 23.5+ KB\n"
     ]
    }
   ],
   "source": [
    "df.info()"
   ]
  },
  {
   "cell_type": "code",
   "execution_count": null,
   "id": "01f19bf3",
   "metadata": {},
   "outputs": [],
   "source": [
    "# Next, I will check for any dupplicate value in the dataset"
   ]
  },
  {
   "cell_type": "code",
   "execution_count": 7,
   "id": "5551b6e3",
   "metadata": {
    "scrolled": true
   },
   "outputs": [
    {
     "data": {
      "text/plain": [
       "0"
      ]
     },
     "execution_count": 7,
     "metadata": {},
     "output_type": "execute_result"
    }
   ],
   "source": [
    "df.duplicated().sum()"
   ]
  },
  {
   "cell_type": "code",
   "execution_count": null,
   "id": "fabfd561",
   "metadata": {},
   "outputs": [],
   "source": [
    "# Now, I will check for any dupplicate value in the dataset again, but this time, I will do it using Klib as follows:"
   ]
  },
  {
   "cell_type": "code",
   "execution_count": 8,
   "id": "15791174",
   "metadata": {
    "scrolled": true
   },
   "outputs": [
    {
     "name": "stdout",
     "output_type": "stream",
     "text": [
      "No missing values found in the dataset.\n"
     ]
    }
   ],
   "source": [
    "klib.missingval_plot(df)"
   ]
  },
  {
   "cell_type": "code",
   "execution_count": null,
   "id": "89cb9ff7",
   "metadata": {},
   "outputs": [],
   "source": [
    "# Okay, as you may see above, I got a confirmation from Klib that states there are not duplicate values in this dataset"
   ]
  },
  {
   "cell_type": "code",
   "execution_count": null,
   "id": "cc9b01b7",
   "metadata": {},
   "outputs": [],
   "source": [
    "# Now let's create a new data frame, I will call this one \"df_cleaned\" and then I will instruct Klib to perform the cleaning \n",
    "# as follows:"
   ]
  },
  {
   "cell_type": "code",
   "execution_count": 9,
   "id": "31ddd5c7",
   "metadata": {},
   "outputs": [
    {
     "name": "stdout",
     "output_type": "stream",
     "text": [
      "Shape of cleaned data: (599, 5)Remaining NAs: 0\n",
      "\n",
      "Changes:\n",
      "Dropped rows: 0\n",
      "     of which 0 duplicates. (Rows: [])\n",
      "Dropped columns: 0\n",
      "     of which 0 single valued.     Columns: []\n",
      "Dropped missing values: 0\n",
      "Reduced memory by at least: 0.0 MB (-0.0%)\n",
      "\n"
     ]
    }
   ],
   "source": [
    "df_cleaned = klib.data_cleaning(df)"
   ]
  },
  {
   "cell_type": "code",
   "execution_count": null,
   "id": "592c68c1",
   "metadata": {},
   "outputs": [],
   "source": [
    "# As you may see Klib told us if it made any changes on our dataset, it also told us that it did not drop any row or column \n",
    "# and it said as well that there were no missing values. So in this case, Klib did not make any change on our dataset. \n",
    "\n",
    "# Klib did all this with just one step, however, there should be taken into account that the data cleaning may require \n",
    "# the execution of something more complex depending on the business requirements.\n",
    "\n",
    "# The following just shows us how the memory usage changed after the Klib cleanup. "
   ]
  },
  {
   "cell_type": "code",
   "execution_count": 10,
   "id": "c5671f84",
   "metadata": {
    "scrolled": true
   },
   "outputs": [
    {
     "name": "stdout",
     "output_type": "stream",
     "text": [
      "<class 'pandas.core.frame.DataFrame'>\n",
      "RangeIndex: 599 entries, 0 to 598\n",
      "Data columns (total 5 columns):\n",
      " #   Column              Non-Null Count  Dtype  \n",
      "---  ------              --------------  -----  \n",
      " 0   customer_id         599 non-null    int16  \n",
      " 1   first_name          599 non-null    string \n",
      " 2   last_name           599 non-null    string \n",
      " 3   rental_date         599 non-null    string \n",
      " 4   sum_payment_amount  599 non-null    Float32\n",
      "dtypes: Float32(1), int16(1), string(3)\n",
      "memory usage: 18.3 KB\n"
     ]
    }
   ],
   "source": [
    "df_cleaned.info()"
   ]
  },
  {
   "cell_type": "code",
   "execution_count": null,
   "id": "a9d14cc2",
   "metadata": {},
   "outputs": [],
   "source": [
    "# For better understanding I will rename the column \"sum_payment_amount\", now it will be called \"total_expended\""
   ]
  },
  {
   "cell_type": "code",
   "execution_count": 11,
   "id": "ae98cbed",
   "metadata": {},
   "outputs": [],
   "source": [
    "df_cleaned.rename(columns = {'sum_payment_amount':'total_expended'}, inplace = True)"
   ]
  },
  {
   "cell_type": "code",
   "execution_count": null,
   "id": "76ae4e65",
   "metadata": {},
   "outputs": [],
   "source": [
    "# Let's have a look at the data frame using the head() method from Pandas as follows:"
   ]
  },
  {
   "cell_type": "code",
   "execution_count": 12,
   "id": "8037afc2",
   "metadata": {
    "scrolled": true
   },
   "outputs": [
    {
     "data": {
      "text/html": [
       "<div>\n",
       "<style scoped>\n",
       "    .dataframe tbody tr th:only-of-type {\n",
       "        vertical-align: middle;\n",
       "    }\n",
       "\n",
       "    .dataframe tbody tr th {\n",
       "        vertical-align: top;\n",
       "    }\n",
       "\n",
       "    .dataframe thead th {\n",
       "        text-align: right;\n",
       "    }\n",
       "</style>\n",
       "<table border=\"1\" class=\"dataframe\">\n",
       "  <thead>\n",
       "    <tr style=\"text-align: right;\">\n",
       "      <th></th>\n",
       "      <th>customer_id</th>\n",
       "      <th>first_name</th>\n",
       "      <th>last_name</th>\n",
       "      <th>rental_date</th>\n",
       "      <th>total_expended</th>\n",
       "    </tr>\n",
       "  </thead>\n",
       "  <tbody>\n",
       "    <tr>\n",
       "      <th>0</th>\n",
       "      <td>526</td>\n",
       "      <td>KARL</td>\n",
       "      <td>SEAL</td>\n",
       "      <td>2005-05-28 00:40:48</td>\n",
       "      <td>9969.75</td>\n",
       "    </tr>\n",
       "    <tr>\n",
       "      <th>1</th>\n",
       "      <td>148</td>\n",
       "      <td>ELEANOR</td>\n",
       "      <td>HUNT</td>\n",
       "      <td>2005-05-28 23:53:18</td>\n",
       "      <td>9960.839844</td>\n",
       "    </tr>\n",
       "    <tr>\n",
       "      <th>2</th>\n",
       "      <td>144</td>\n",
       "      <td>CLARA</td>\n",
       "      <td>SHAW</td>\n",
       "      <td>2005-05-27 00:49:27</td>\n",
       "      <td>8214.360352</td>\n",
       "    </tr>\n",
       "    <tr>\n",
       "      <th>3</th>\n",
       "      <td>137</td>\n",
       "      <td>RHONDA</td>\n",
       "      <td>KENNEDY</td>\n",
       "      <td>2005-05-30 12:13:52</td>\n",
       "      <td>7589.790039</td>\n",
       "    </tr>\n",
       "    <tr>\n",
       "      <th>4</th>\n",
       "      <td>178</td>\n",
       "      <td>MARION</td>\n",
       "      <td>SNYDER</td>\n",
       "      <td>2005-06-15 09:03:52</td>\n",
       "      <td>7589.790039</td>\n",
       "    </tr>\n",
       "  </tbody>\n",
       "</table>\n",
       "</div>"
      ],
      "text/plain": [
       "   customer_id first_name last_name          rental_date  total_expended\n",
       "0          526       KARL      SEAL  2005-05-28 00:40:48         9969.75\n",
       "1          148    ELEANOR      HUNT  2005-05-28 23:53:18     9960.839844\n",
       "2          144      CLARA      SHAW  2005-05-27 00:49:27     8214.360352\n",
       "3          137     RHONDA   KENNEDY  2005-05-30 12:13:52     7589.790039\n",
       "4          178     MARION    SNYDER  2005-06-15 09:03:52     7589.790039"
      ]
     },
     "execution_count": 12,
     "metadata": {},
     "output_type": "execute_result"
    }
   ],
   "source": [
    "df_cleaned.head()"
   ]
  },
  {
   "cell_type": "code",
   "execution_count": null,
   "id": "b7ed446d",
   "metadata": {},
   "outputs": [],
   "source": [
    "# Now let's to take some extra precautions regarding duplicates values, let's check if there is any duplicate customer id"
   ]
  },
  {
   "cell_type": "code",
   "execution_count": 13,
   "id": "753101b3",
   "metadata": {},
   "outputs": [
    {
     "data": {
      "text/plain": [
       "0"
      ]
     },
     "execution_count": 13,
     "metadata": {},
     "output_type": "execute_result"
    }
   ],
   "source": [
    "df_cleaned[\"customer_id\"].duplicated().sum()"
   ]
  },
  {
   "cell_type": "code",
   "execution_count": null,
   "id": "64623f60",
   "metadata": {},
   "outputs": [],
   "source": [
    "# Next, I'll do the same check for duplicate values even though it may be considered normal to have one or more \n",
    "# customer with the same first name."
   ]
  },
  {
   "cell_type": "code",
   "execution_count": 14,
   "id": "ce3dd7fe",
   "metadata": {},
   "outputs": [
    {
     "data": {
      "text/plain": [
       "8"
      ]
     },
     "execution_count": 14,
     "metadata": {},
     "output_type": "execute_result"
    }
   ],
   "source": [
    "df_cleaned[\"first_name\"].duplicated().sum()"
   ]
  },
  {
   "cell_type": "code",
   "execution_count": null,
   "id": "d7fe2c31",
   "metadata": {},
   "outputs": [],
   "source": [
    "# Okay, I got 8 customers with the same first name in this data set, is not a problem."
   ]
  },
  {
   "cell_type": "code",
   "execution_count": null,
   "id": "37f94a14",
   "metadata": {},
   "outputs": [],
   "source": [
    "# The following may be an optional step, I just want to change the data type of the \"customer_id\" column"
   ]
  },
  {
   "cell_type": "code",
   "execution_count": 15,
   "id": "7537ca11",
   "metadata": {},
   "outputs": [],
   "source": [
    "df_cleaned[\"customer_id\"] = df_cleaned[\"customer_id\"].astype('string')"
   ]
  },
  {
   "cell_type": "code",
   "execution_count": null,
   "id": "d9840482",
   "metadata": {},
   "outputs": [],
   "source": [
    "# Let's check the data type change on the \"customer_id\" column"
   ]
  },
  {
   "cell_type": "code",
   "execution_count": 16,
   "id": "7a59146f",
   "metadata": {},
   "outputs": [
    {
     "name": "stdout",
     "output_type": "stream",
     "text": [
      "<class 'pandas.core.frame.DataFrame'>\n",
      "RangeIndex: 599 entries, 0 to 598\n",
      "Data columns (total 5 columns):\n",
      " #   Column          Non-Null Count  Dtype  \n",
      "---  ------          --------------  -----  \n",
      " 0   customer_id     599 non-null    string \n",
      " 1   first_name      599 non-null    string \n",
      " 2   last_name       599 non-null    string \n",
      " 3   rental_date     599 non-null    string \n",
      " 4   total_expended  599 non-null    Float32\n",
      "dtypes: Float32(1), string(4)\n",
      "memory usage: 21.8 KB\n"
     ]
    }
   ],
   "source": [
    "df_cleaned.info()"
   ]
  },
  {
   "cell_type": "code",
   "execution_count": null,
   "id": "bf35f059",
   "metadata": {},
   "outputs": [],
   "source": [
    "# Okay, the previous cell looks good.\n",
    "\n",
    "# Now I will add a column whose name will be \"ranking _by_ expenditure\", inside this new column I will assign a ranking of \n",
    "# every customer Sakila has."
   ]
  },
  {
   "cell_type": "code",
   "execution_count": 17,
   "id": "eb684202",
   "metadata": {},
   "outputs": [],
   "source": [
    "df_cleaned[\"ranking_by_expenditure\"]= df_cleaned[\"total_expended\"].rank(ascending=False)"
   ]
  },
  {
   "cell_type": "code",
   "execution_count": null,
   "id": "0030db68",
   "metadata": {},
   "outputs": [],
   "source": [
    "# Let's have a look at the data frame using the head() method from Pandas as follows:"
   ]
  },
  {
   "cell_type": "code",
   "execution_count": 18,
   "id": "38fca762",
   "metadata": {
    "scrolled": true
   },
   "outputs": [
    {
     "data": {
      "text/html": [
       "<div>\n",
       "<style scoped>\n",
       "    .dataframe tbody tr th:only-of-type {\n",
       "        vertical-align: middle;\n",
       "    }\n",
       "\n",
       "    .dataframe tbody tr th {\n",
       "        vertical-align: top;\n",
       "    }\n",
       "\n",
       "    .dataframe thead th {\n",
       "        text-align: right;\n",
       "    }\n",
       "</style>\n",
       "<table border=\"1\" class=\"dataframe\">\n",
       "  <thead>\n",
       "    <tr style=\"text-align: right;\">\n",
       "      <th></th>\n",
       "      <th>customer_id</th>\n",
       "      <th>first_name</th>\n",
       "      <th>last_name</th>\n",
       "      <th>rental_date</th>\n",
       "      <th>total_expended</th>\n",
       "      <th>ranking_by_expenditure</th>\n",
       "    </tr>\n",
       "  </thead>\n",
       "  <tbody>\n",
       "    <tr>\n",
       "      <th>0</th>\n",
       "      <td>526</td>\n",
       "      <td>KARL</td>\n",
       "      <td>SEAL</td>\n",
       "      <td>2005-05-28 00:40:48</td>\n",
       "      <td>9969.75</td>\n",
       "      <td>1.0</td>\n",
       "    </tr>\n",
       "    <tr>\n",
       "      <th>1</th>\n",
       "      <td>148</td>\n",
       "      <td>ELEANOR</td>\n",
       "      <td>HUNT</td>\n",
       "      <td>2005-05-28 23:53:18</td>\n",
       "      <td>9960.839844</td>\n",
       "      <td>2.0</td>\n",
       "    </tr>\n",
       "    <tr>\n",
       "      <th>2</th>\n",
       "      <td>144</td>\n",
       "      <td>CLARA</td>\n",
       "      <td>SHAW</td>\n",
       "      <td>2005-05-27 00:49:27</td>\n",
       "      <td>8214.360352</td>\n",
       "      <td>3.0</td>\n",
       "    </tr>\n",
       "    <tr>\n",
       "      <th>3</th>\n",
       "      <td>137</td>\n",
       "      <td>RHONDA</td>\n",
       "      <td>KENNEDY</td>\n",
       "      <td>2005-05-30 12:13:52</td>\n",
       "      <td>7589.790039</td>\n",
       "      <td>4.5</td>\n",
       "    </tr>\n",
       "    <tr>\n",
       "      <th>4</th>\n",
       "      <td>178</td>\n",
       "      <td>MARION</td>\n",
       "      <td>SNYDER</td>\n",
       "      <td>2005-06-15 09:03:52</td>\n",
       "      <td>7589.790039</td>\n",
       "      <td>4.5</td>\n",
       "    </tr>\n",
       "    <tr>\n",
       "      <th>5</th>\n",
       "      <td>236</td>\n",
       "      <td>MARCIA</td>\n",
       "      <td>DEAN</td>\n",
       "      <td>2005-05-26 15:46:56</td>\n",
       "      <td>7374.359863</td>\n",
       "      <td>6.0</td>\n",
       "    </tr>\n",
       "    <tr>\n",
       "      <th>6</th>\n",
       "      <td>469</td>\n",
       "      <td>WESLEY</td>\n",
       "      <td>BULL</td>\n",
       "      <td>2005-05-26 03:07:43</td>\n",
       "      <td>7104.0</td>\n",
       "      <td>7.0</td>\n",
       "    </tr>\n",
       "    <tr>\n",
       "      <th>7</th>\n",
       "      <td>459</td>\n",
       "      <td>TOMMY</td>\n",
       "      <td>COLLAZO</td>\n",
       "      <td>2005-05-24 22:54:33</td>\n",
       "      <td>7091.560059</td>\n",
       "      <td>8.0</td>\n",
       "    </tr>\n",
       "    <tr>\n",
       "      <th>8</th>\n",
       "      <td>468</td>\n",
       "      <td>TIM</td>\n",
       "      <td>CARY</td>\n",
       "      <td>2005-05-25 17:17:04</td>\n",
       "      <td>6848.790039</td>\n",
       "      <td>9.0</td>\n",
       "    </tr>\n",
       "    <tr>\n",
       "      <th>9</th>\n",
       "      <td>176</td>\n",
       "      <td>JUNE</td>\n",
       "      <td>CARROLL</td>\n",
       "      <td>2005-05-26 03:17:42</td>\n",
       "      <td>6424.310059</td>\n",
       "      <td>10.0</td>\n",
       "    </tr>\n",
       "    <tr>\n",
       "      <th>10</th>\n",
       "      <td>75</td>\n",
       "      <td>TAMMY</td>\n",
       "      <td>SANDERS</td>\n",
       "      <td>2005-05-26 04:46:23</td>\n",
       "      <td>6379.189941</td>\n",
       "      <td>11.0</td>\n",
       "    </tr>\n",
       "    <tr>\n",
       "      <th>11</th>\n",
       "      <td>410</td>\n",
       "      <td>CURTIS</td>\n",
       "      <td>IRBY</td>\n",
       "      <td>2005-06-15 22:57:34</td>\n",
       "      <td>6369.560059</td>\n",
       "      <td>12.0</td>\n",
       "    </tr>\n",
       "    <tr>\n",
       "      <th>12</th>\n",
       "      <td>197</td>\n",
       "      <td>SUE</td>\n",
       "      <td>PETERS</td>\n",
       "      <td>2005-05-25 16:03:42</td>\n",
       "      <td>6184.0</td>\n",
       "      <td>13.0</td>\n",
       "    </tr>\n",
       "    <tr>\n",
       "      <th>13</th>\n",
       "      <td>295</td>\n",
       "      <td>DAISY</td>\n",
       "      <td>BATES</td>\n",
       "      <td>2005-05-27 08:08:18</td>\n",
       "      <td>6179.560059</td>\n",
       "      <td>14.0</td>\n",
       "    </tr>\n",
       "    <tr>\n",
       "      <th>14</th>\n",
       "      <td>181</td>\n",
       "      <td>ANA</td>\n",
       "      <td>BRADLEY</td>\n",
       "      <td>2005-05-28 11:19:23</td>\n",
       "      <td>5938.439941</td>\n",
       "      <td>15.0</td>\n",
       "    </tr>\n",
       "  </tbody>\n",
       "</table>\n",
       "</div>"
      ],
      "text/plain": [
       "   customer_id first_name last_name          rental_date  total_expended  \\\n",
       "0          526       KARL      SEAL  2005-05-28 00:40:48         9969.75   \n",
       "1          148    ELEANOR      HUNT  2005-05-28 23:53:18     9960.839844   \n",
       "2          144      CLARA      SHAW  2005-05-27 00:49:27     8214.360352   \n",
       "3          137     RHONDA   KENNEDY  2005-05-30 12:13:52     7589.790039   \n",
       "4          178     MARION    SNYDER  2005-06-15 09:03:52     7589.790039   \n",
       "5          236     MARCIA      DEAN  2005-05-26 15:46:56     7374.359863   \n",
       "6          469     WESLEY      BULL  2005-05-26 03:07:43          7104.0   \n",
       "7          459      TOMMY   COLLAZO  2005-05-24 22:54:33     7091.560059   \n",
       "8          468        TIM      CARY  2005-05-25 17:17:04     6848.790039   \n",
       "9          176       JUNE   CARROLL  2005-05-26 03:17:42     6424.310059   \n",
       "10          75      TAMMY   SANDERS  2005-05-26 04:46:23     6379.189941   \n",
       "11         410     CURTIS      IRBY  2005-06-15 22:57:34     6369.560059   \n",
       "12         197        SUE    PETERS  2005-05-25 16:03:42          6184.0   \n",
       "13         295      DAISY     BATES  2005-05-27 08:08:18     6179.560059   \n",
       "14         181        ANA   BRADLEY  2005-05-28 11:19:23     5938.439941   \n",
       "\n",
       "    ranking_by_expenditure  \n",
       "0                      1.0  \n",
       "1                      2.0  \n",
       "2                      3.0  \n",
       "3                      4.5  \n",
       "4                      4.5  \n",
       "5                      6.0  \n",
       "6                      7.0  \n",
       "7                      8.0  \n",
       "8                      9.0  \n",
       "9                     10.0  \n",
       "10                    11.0  \n",
       "11                    12.0  \n",
       "12                    13.0  \n",
       "13                    14.0  \n",
       "14                    15.0  "
      ]
     },
     "execution_count": 18,
     "metadata": {},
     "output_type": "execute_result"
    }
   ],
   "source": [
    "df_cleaned.head(15)"
   ]
  },
  {
   "cell_type": "code",
   "execution_count": null,
   "id": "672c872c",
   "metadata": {},
   "outputs": [],
   "source": [
    "# Okay, as you may see above, Pandas made the ranking, now I want to sort out the ranking values as follows:"
   ]
  },
  {
   "cell_type": "code",
   "execution_count": 19,
   "id": "5685669d",
   "metadata": {
    "scrolled": true
   },
   "outputs": [
    {
     "data": {
      "text/html": [
       "<div>\n",
       "<style scoped>\n",
       "    .dataframe tbody tr th:only-of-type {\n",
       "        vertical-align: middle;\n",
       "    }\n",
       "\n",
       "    .dataframe tbody tr th {\n",
       "        vertical-align: top;\n",
       "    }\n",
       "\n",
       "    .dataframe thead th {\n",
       "        text-align: right;\n",
       "    }\n",
       "</style>\n",
       "<table border=\"1\" class=\"dataframe\">\n",
       "  <thead>\n",
       "    <tr style=\"text-align: right;\">\n",
       "      <th></th>\n",
       "      <th>customer_id</th>\n",
       "      <th>first_name</th>\n",
       "      <th>last_name</th>\n",
       "      <th>rental_date</th>\n",
       "      <th>total_expended</th>\n",
       "      <th>ranking_by_expenditure</th>\n",
       "    </tr>\n",
       "  </thead>\n",
       "  <tbody>\n",
       "    <tr>\n",
       "      <th>0</th>\n",
       "      <td>526</td>\n",
       "      <td>KARL</td>\n",
       "      <td>SEAL</td>\n",
       "      <td>2005-05-28 00:40:48</td>\n",
       "      <td>9969.75</td>\n",
       "      <td>1.0</td>\n",
       "    </tr>\n",
       "    <tr>\n",
       "      <th>1</th>\n",
       "      <td>148</td>\n",
       "      <td>ELEANOR</td>\n",
       "      <td>HUNT</td>\n",
       "      <td>2005-05-28 23:53:18</td>\n",
       "      <td>9960.839844</td>\n",
       "      <td>2.0</td>\n",
       "    </tr>\n",
       "    <tr>\n",
       "      <th>2</th>\n",
       "      <td>144</td>\n",
       "      <td>CLARA</td>\n",
       "      <td>SHAW</td>\n",
       "      <td>2005-05-27 00:49:27</td>\n",
       "      <td>8214.360352</td>\n",
       "      <td>3.0</td>\n",
       "    </tr>\n",
       "    <tr>\n",
       "      <th>3</th>\n",
       "      <td>137</td>\n",
       "      <td>RHONDA</td>\n",
       "      <td>KENNEDY</td>\n",
       "      <td>2005-05-30 12:13:52</td>\n",
       "      <td>7589.790039</td>\n",
       "      <td>4.5</td>\n",
       "    </tr>\n",
       "    <tr>\n",
       "      <th>4</th>\n",
       "      <td>178</td>\n",
       "      <td>MARION</td>\n",
       "      <td>SNYDER</td>\n",
       "      <td>2005-06-15 09:03:52</td>\n",
       "      <td>7589.790039</td>\n",
       "      <td>4.5</td>\n",
       "    </tr>\n",
       "    <tr>\n",
       "      <th>5</th>\n",
       "      <td>236</td>\n",
       "      <td>MARCIA</td>\n",
       "      <td>DEAN</td>\n",
       "      <td>2005-05-26 15:46:56</td>\n",
       "      <td>7374.359863</td>\n",
       "      <td>6.0</td>\n",
       "    </tr>\n",
       "    <tr>\n",
       "      <th>6</th>\n",
       "      <td>469</td>\n",
       "      <td>WESLEY</td>\n",
       "      <td>BULL</td>\n",
       "      <td>2005-05-26 03:07:43</td>\n",
       "      <td>7104.0</td>\n",
       "      <td>7.0</td>\n",
       "    </tr>\n",
       "    <tr>\n",
       "      <th>7</th>\n",
       "      <td>459</td>\n",
       "      <td>TOMMY</td>\n",
       "      <td>COLLAZO</td>\n",
       "      <td>2005-05-24 22:54:33</td>\n",
       "      <td>7091.560059</td>\n",
       "      <td>8.0</td>\n",
       "    </tr>\n",
       "    <tr>\n",
       "      <th>8</th>\n",
       "      <td>468</td>\n",
       "      <td>TIM</td>\n",
       "      <td>CARY</td>\n",
       "      <td>2005-05-25 17:17:04</td>\n",
       "      <td>6848.790039</td>\n",
       "      <td>9.0</td>\n",
       "    </tr>\n",
       "    <tr>\n",
       "      <th>9</th>\n",
       "      <td>176</td>\n",
       "      <td>JUNE</td>\n",
       "      <td>CARROLL</td>\n",
       "      <td>2005-05-26 03:17:42</td>\n",
       "      <td>6424.310059</td>\n",
       "      <td>10.0</td>\n",
       "    </tr>\n",
       "    <tr>\n",
       "      <th>10</th>\n",
       "      <td>75</td>\n",
       "      <td>TAMMY</td>\n",
       "      <td>SANDERS</td>\n",
       "      <td>2005-05-26 04:46:23</td>\n",
       "      <td>6379.189941</td>\n",
       "      <td>11.0</td>\n",
       "    </tr>\n",
       "    <tr>\n",
       "      <th>11</th>\n",
       "      <td>410</td>\n",
       "      <td>CURTIS</td>\n",
       "      <td>IRBY</td>\n",
       "      <td>2005-06-15 22:57:34</td>\n",
       "      <td>6369.560059</td>\n",
       "      <td>12.0</td>\n",
       "    </tr>\n",
       "  </tbody>\n",
       "</table>\n",
       "</div>"
      ],
      "text/plain": [
       "   customer_id first_name last_name          rental_date  total_expended  \\\n",
       "0          526       KARL      SEAL  2005-05-28 00:40:48         9969.75   \n",
       "1          148    ELEANOR      HUNT  2005-05-28 23:53:18     9960.839844   \n",
       "2          144      CLARA      SHAW  2005-05-27 00:49:27     8214.360352   \n",
       "3          137     RHONDA   KENNEDY  2005-05-30 12:13:52     7589.790039   \n",
       "4          178     MARION    SNYDER  2005-06-15 09:03:52     7589.790039   \n",
       "5          236     MARCIA      DEAN  2005-05-26 15:46:56     7374.359863   \n",
       "6          469     WESLEY      BULL  2005-05-26 03:07:43          7104.0   \n",
       "7          459      TOMMY   COLLAZO  2005-05-24 22:54:33     7091.560059   \n",
       "8          468        TIM      CARY  2005-05-25 17:17:04     6848.790039   \n",
       "9          176       JUNE   CARROLL  2005-05-26 03:17:42     6424.310059   \n",
       "10          75      TAMMY   SANDERS  2005-05-26 04:46:23     6379.189941   \n",
       "11         410     CURTIS      IRBY  2005-06-15 22:57:34     6369.560059   \n",
       "\n",
       "    ranking_by_expenditure  \n",
       "0                      1.0  \n",
       "1                      2.0  \n",
       "2                      3.0  \n",
       "3                      4.5  \n",
       "4                      4.5  \n",
       "5                      6.0  \n",
       "6                      7.0  \n",
       "7                      8.0  \n",
       "8                      9.0  \n",
       "9                     10.0  \n",
       "10                    11.0  \n",
       "11                    12.0  "
      ]
     },
     "execution_count": 19,
     "metadata": {},
     "output_type": "execute_result"
    }
   ],
   "source": [
    "df_cleaned.sort_values(\"ranking_by_expenditure\", ascending=True).head(12)"
   ]
  },
  {
   "cell_type": "code",
   "execution_count": null,
   "id": "00fa9ef1",
   "metadata": {},
   "outputs": [],
   "source": [
    "# Perfect, we got it! now let's put this in a new dataframe just to have everything in an identifiable dataframe. \n",
    "# I will name the new data frame \"df_ranking_sorted\""
   ]
  },
  {
   "cell_type": "code",
   "execution_count": 20,
   "id": "734f7e60",
   "metadata": {},
   "outputs": [],
   "source": [
    "df_ranking_sorted = df_cleaned.sort_values(\"ranking_by_expenditure\", ascending=True)"
   ]
  },
  {
   "cell_type": "code",
   "execution_count": null,
   "id": "3e6dea8a",
   "metadata": {},
   "outputs": [],
   "source": [
    "# The following is the outcome of the execution of the head() method that shows us the first 5 rows out of all the columns\n",
    "# the \"df_ranking_sorted\" data frame has.  \n",
    "\n",
    "# As you may see below, now there is a ranking based on the expenditure of every Sakila customer."
   ]
  },
  {
   "cell_type": "code",
   "execution_count": 21,
   "id": "c4aeb0dd",
   "metadata": {
    "scrolled": true
   },
   "outputs": [
    {
     "data": {
      "text/html": [
       "<div>\n",
       "<style scoped>\n",
       "    .dataframe tbody tr th:only-of-type {\n",
       "        vertical-align: middle;\n",
       "    }\n",
       "\n",
       "    .dataframe tbody tr th {\n",
       "        vertical-align: top;\n",
       "    }\n",
       "\n",
       "    .dataframe thead th {\n",
       "        text-align: right;\n",
       "    }\n",
       "</style>\n",
       "<table border=\"1\" class=\"dataframe\">\n",
       "  <thead>\n",
       "    <tr style=\"text-align: right;\">\n",
       "      <th></th>\n",
       "      <th>customer_id</th>\n",
       "      <th>first_name</th>\n",
       "      <th>last_name</th>\n",
       "      <th>rental_date</th>\n",
       "      <th>total_expended</th>\n",
       "      <th>ranking_by_expenditure</th>\n",
       "    </tr>\n",
       "  </thead>\n",
       "  <tbody>\n",
       "    <tr>\n",
       "      <th>0</th>\n",
       "      <td>526</td>\n",
       "      <td>KARL</td>\n",
       "      <td>SEAL</td>\n",
       "      <td>2005-05-28 00:40:48</td>\n",
       "      <td>9969.75</td>\n",
       "      <td>1.0</td>\n",
       "    </tr>\n",
       "    <tr>\n",
       "      <th>1</th>\n",
       "      <td>148</td>\n",
       "      <td>ELEANOR</td>\n",
       "      <td>HUNT</td>\n",
       "      <td>2005-05-28 23:53:18</td>\n",
       "      <td>9960.839844</td>\n",
       "      <td>2.0</td>\n",
       "    </tr>\n",
       "    <tr>\n",
       "      <th>2</th>\n",
       "      <td>144</td>\n",
       "      <td>CLARA</td>\n",
       "      <td>SHAW</td>\n",
       "      <td>2005-05-27 00:49:27</td>\n",
       "      <td>8214.360352</td>\n",
       "      <td>3.0</td>\n",
       "    </tr>\n",
       "    <tr>\n",
       "      <th>3</th>\n",
       "      <td>137</td>\n",
       "      <td>RHONDA</td>\n",
       "      <td>KENNEDY</td>\n",
       "      <td>2005-05-30 12:13:52</td>\n",
       "      <td>7589.790039</td>\n",
       "      <td>4.5</td>\n",
       "    </tr>\n",
       "    <tr>\n",
       "      <th>4</th>\n",
       "      <td>178</td>\n",
       "      <td>MARION</td>\n",
       "      <td>SNYDER</td>\n",
       "      <td>2005-06-15 09:03:52</td>\n",
       "      <td>7589.790039</td>\n",
       "      <td>4.5</td>\n",
       "    </tr>\n",
       "  </tbody>\n",
       "</table>\n",
       "</div>"
      ],
      "text/plain": [
       "  customer_id first_name last_name          rental_date  total_expended  \\\n",
       "0         526       KARL      SEAL  2005-05-28 00:40:48         9969.75   \n",
       "1         148    ELEANOR      HUNT  2005-05-28 23:53:18     9960.839844   \n",
       "2         144      CLARA      SHAW  2005-05-27 00:49:27     8214.360352   \n",
       "3         137     RHONDA   KENNEDY  2005-05-30 12:13:52     7589.790039   \n",
       "4         178     MARION    SNYDER  2005-06-15 09:03:52     7589.790039   \n",
       "\n",
       "   ranking_by_expenditure  \n",
       "0                     1.0  \n",
       "1                     2.0  \n",
       "2                     3.0  \n",
       "3                     4.5  \n",
       "4                     4.5  "
      ]
     },
     "execution_count": 21,
     "metadata": {},
     "output_type": "execute_result"
    }
   ],
   "source": [
    "df_ranking_sorted.head() "
   ]
  },
  {
   "cell_type": "code",
   "execution_count": null,
   "id": "380fe68b",
   "metadata": {},
   "outputs": [],
   "source": [
    "# Now when thinking about visualization, It may be unnecessary to visualize all the raking.\n",
    "\n",
    "# let's say we want to get to know the top 10 customer who spend the most.\n",
    "\n",
    "# Okay, in my opinion, one easy approach is to query every customer who ranked between number 1 one as well as the customer \n",
    "# ranked at position number 10, including rank 1 and 10. \n",
    "\n",
    "# I did the following"
   ]
  },
  {
   "cell_type": "code",
   "execution_count": 22,
   "id": "e144a417",
   "metadata": {},
   "outputs": [],
   "source": [
    "df_top_ten_customers_by_expenditure = df_ranking_sorted.query(\"ranking_by_expenditure<=10\") "
   ]
  },
  {
   "cell_type": "code",
   "execution_count": null,
   "id": "d414942a",
   "metadata": {},
   "outputs": [],
   "source": [
    "# Now let's see who are the top 10 customer who spend the most by executing the head() method for 11 rows."
   ]
  },
  {
   "cell_type": "code",
   "execution_count": 23,
   "id": "901ef80f",
   "metadata": {
    "scrolled": true
   },
   "outputs": [
    {
     "data": {
      "text/html": [
       "<div>\n",
       "<style scoped>\n",
       "    .dataframe tbody tr th:only-of-type {\n",
       "        vertical-align: middle;\n",
       "    }\n",
       "\n",
       "    .dataframe tbody tr th {\n",
       "        vertical-align: top;\n",
       "    }\n",
       "\n",
       "    .dataframe thead th {\n",
       "        text-align: right;\n",
       "    }\n",
       "</style>\n",
       "<table border=\"1\" class=\"dataframe\">\n",
       "  <thead>\n",
       "    <tr style=\"text-align: right;\">\n",
       "      <th></th>\n",
       "      <th>customer_id</th>\n",
       "      <th>first_name</th>\n",
       "      <th>last_name</th>\n",
       "      <th>rental_date</th>\n",
       "      <th>total_expended</th>\n",
       "      <th>ranking_by_expenditure</th>\n",
       "    </tr>\n",
       "  </thead>\n",
       "  <tbody>\n",
       "    <tr>\n",
       "      <th>0</th>\n",
       "      <td>526</td>\n",
       "      <td>KARL</td>\n",
       "      <td>SEAL</td>\n",
       "      <td>2005-05-28 00:40:48</td>\n",
       "      <td>9969.75</td>\n",
       "      <td>1.0</td>\n",
       "    </tr>\n",
       "    <tr>\n",
       "      <th>1</th>\n",
       "      <td>148</td>\n",
       "      <td>ELEANOR</td>\n",
       "      <td>HUNT</td>\n",
       "      <td>2005-05-28 23:53:18</td>\n",
       "      <td>9960.839844</td>\n",
       "      <td>2.0</td>\n",
       "    </tr>\n",
       "    <tr>\n",
       "      <th>2</th>\n",
       "      <td>144</td>\n",
       "      <td>CLARA</td>\n",
       "      <td>SHAW</td>\n",
       "      <td>2005-05-27 00:49:27</td>\n",
       "      <td>8214.360352</td>\n",
       "      <td>3.0</td>\n",
       "    </tr>\n",
       "    <tr>\n",
       "      <th>3</th>\n",
       "      <td>137</td>\n",
       "      <td>RHONDA</td>\n",
       "      <td>KENNEDY</td>\n",
       "      <td>2005-05-30 12:13:52</td>\n",
       "      <td>7589.790039</td>\n",
       "      <td>4.5</td>\n",
       "    </tr>\n",
       "    <tr>\n",
       "      <th>4</th>\n",
       "      <td>178</td>\n",
       "      <td>MARION</td>\n",
       "      <td>SNYDER</td>\n",
       "      <td>2005-06-15 09:03:52</td>\n",
       "      <td>7589.790039</td>\n",
       "      <td>4.5</td>\n",
       "    </tr>\n",
       "    <tr>\n",
       "      <th>5</th>\n",
       "      <td>236</td>\n",
       "      <td>MARCIA</td>\n",
       "      <td>DEAN</td>\n",
       "      <td>2005-05-26 15:46:56</td>\n",
       "      <td>7374.359863</td>\n",
       "      <td>6.0</td>\n",
       "    </tr>\n",
       "    <tr>\n",
       "      <th>6</th>\n",
       "      <td>469</td>\n",
       "      <td>WESLEY</td>\n",
       "      <td>BULL</td>\n",
       "      <td>2005-05-26 03:07:43</td>\n",
       "      <td>7104.0</td>\n",
       "      <td>7.0</td>\n",
       "    </tr>\n",
       "    <tr>\n",
       "      <th>7</th>\n",
       "      <td>459</td>\n",
       "      <td>TOMMY</td>\n",
       "      <td>COLLAZO</td>\n",
       "      <td>2005-05-24 22:54:33</td>\n",
       "      <td>7091.560059</td>\n",
       "      <td>8.0</td>\n",
       "    </tr>\n",
       "    <tr>\n",
       "      <th>8</th>\n",
       "      <td>468</td>\n",
       "      <td>TIM</td>\n",
       "      <td>CARY</td>\n",
       "      <td>2005-05-25 17:17:04</td>\n",
       "      <td>6848.790039</td>\n",
       "      <td>9.0</td>\n",
       "    </tr>\n",
       "    <tr>\n",
       "      <th>9</th>\n",
       "      <td>176</td>\n",
       "      <td>JUNE</td>\n",
       "      <td>CARROLL</td>\n",
       "      <td>2005-05-26 03:17:42</td>\n",
       "      <td>6424.310059</td>\n",
       "      <td>10.0</td>\n",
       "    </tr>\n",
       "  </tbody>\n",
       "</table>\n",
       "</div>"
      ],
      "text/plain": [
       "  customer_id first_name last_name          rental_date  total_expended  \\\n",
       "0         526       KARL      SEAL  2005-05-28 00:40:48         9969.75   \n",
       "1         148    ELEANOR      HUNT  2005-05-28 23:53:18     9960.839844   \n",
       "2         144      CLARA      SHAW  2005-05-27 00:49:27     8214.360352   \n",
       "3         137     RHONDA   KENNEDY  2005-05-30 12:13:52     7589.790039   \n",
       "4         178     MARION    SNYDER  2005-06-15 09:03:52     7589.790039   \n",
       "5         236     MARCIA      DEAN  2005-05-26 15:46:56     7374.359863   \n",
       "6         469     WESLEY      BULL  2005-05-26 03:07:43          7104.0   \n",
       "7         459      TOMMY   COLLAZO  2005-05-24 22:54:33     7091.560059   \n",
       "8         468        TIM      CARY  2005-05-25 17:17:04     6848.790039   \n",
       "9         176       JUNE   CARROLL  2005-05-26 03:17:42     6424.310059   \n",
       "\n",
       "   ranking_by_expenditure  \n",
       "0                     1.0  \n",
       "1                     2.0  \n",
       "2                     3.0  \n",
       "3                     4.5  \n",
       "4                     4.5  \n",
       "5                     6.0  \n",
       "6                     7.0  \n",
       "7                     8.0  \n",
       "8                     9.0  \n",
       "9                    10.0  "
      ]
     },
     "execution_count": 23,
     "metadata": {},
     "output_type": "execute_result"
    }
   ],
   "source": [
    "df_top_ten_customers_by_expenditure.head(11)"
   ]
  },
  {
   "cell_type": "code",
   "execution_count": null,
   "id": "cc9fe15f",
   "metadata": {},
   "outputs": [],
   "source": [
    "# The next cells contains the producedures for getting a visualization of the outcome of the sakila customer who spend the most."
   ]
  },
  {
   "cell_type": "code",
   "execution_count": null,
   "id": "597c4476",
   "metadata": {},
   "outputs": [],
   "source": [
    "# Important:\n",
    "\n",
    "# Keep in mind that in order to visually represent our data we need to determine which graph is best suited for our analysis\n",
    "# and this will depend on several things, for example, the audience, the purpose/goal and the actions/results we hope to get \n",
    "# from the audience by showing them our chart.\n",
    "\n",
    "# In my opinion, it is equally important to take into account the type of data we have, let's say numeric, categorical or \n",
    "# ordinal so that the graph can communicate the message and obtain the expected results."
   ]
  },
  {
   "cell_type": "code",
   "execution_count": null,
   "id": "4131cfc7",
   "metadata": {},
   "outputs": [],
   "source": [
    "# For these analyses, I will be using a bar chart, so let's define the values for X and Y as follows:"
   ]
  },
  {
   "cell_type": "code",
   "execution_count": 24,
   "id": "5312cc32",
   "metadata": {},
   "outputs": [],
   "source": [
    "x = df_top_ten_customers_by_expenditure[\"total_expended\"]/1000"
   ]
  },
  {
   "cell_type": "code",
   "execution_count": 25,
   "id": "78396dbd",
   "metadata": {},
   "outputs": [],
   "source": [
    "y = df_top_ten_customers_by_expenditure[\"first_name\"]"
   ]
  },
  {
   "cell_type": "code",
   "execution_count": null,
   "id": "3d6d4ee3",
   "metadata": {},
   "outputs": [],
   "source": [
    "# Now I am going to configure the bar graph, save it and print it, as follows:"
   ]
  },
  {
   "cell_type": "code",
   "execution_count": 26,
   "id": "c0ab15ec",
   "metadata": {},
   "outputs": [
    {
     "data": {
      "image/png": "[encoded data removed]",
      "text/plain": [
       "<Figure size 576x360 with 1 Axes>"
      ]
     },
     "metadata": {
      "needs_background": "light"
     },
     "output_type": "display_data"
    }
   ],
   "source": [
    "figure, ax = plt.subplots(figsize=(8, 5))\n",
    "\n",
    "ax.barh(y, x, color = \"darkorange\")\n",
    "\n",
    "ax.invert_yaxis()\n",
    "\n",
    "ax.set_xlabel(\"Total Expended in Thousands\", fontsize=12)\n",
    "\n",
    "ax.set_ylabel(\"Customers\", fontsize=12)\n",
    "\n",
    "ax.set_title(\"Sakila Customers Who Spend the Most\", fontsize=20)\n",
    "\n",
    "plt.annotate('Data source: Oracle Corporation',\n",
    "            xy = (-0.12, -0.20),\n",
    "            xycoords='axes fraction',\n",
    "            fontsize=9)\n",
    "\n",
    "plt.annotate('@albertoscode',\n",
    "            xy = (.90, -0.20),\n",
    "            xycoords='axes fraction',\n",
    "            fontsize=9)\n",
    "\n",
    "plt.savefig(\"sakilaCustomers.jpg\", dpi=150,bbox_inches='tight')\n",
    "\n",
    "plt.show()"
   ]
  },
  {
   "cell_type": "code",
   "execution_count": null,
   "id": "3f39e3c9",
   "metadata": {},
   "outputs": [],
   "source": [
    "# And that's it\n",
    "\n",
    "# Thank you very much again!\n",
    "\n",
    "# Best regards,\n",
    "\n",
    "# Alberto F. Hernandez"
   ]
  }
 ],
 "metadata": {
  "kernelspec": {
   "display_name": "Python 3 (ipykernel)",
   "language": "python",
   "name": "python3"
  },
  "language_info": {
   "codemirror_mode": {
    "name": "ipython",
    "version": 3
   },
   "file_extension": ".py",
   "mimetype": "text/x-python",
   "name": "python",
   "nbconvert_exporter": "python",
   "pygments_lexer": "ipython3",
   "version": "3.10.0"
  }
 },
 "nbformat": 4,
 "nbformat_minor": 5
}
